{
 "cells": [
  {
   "cell_type": "code",
   "execution_count": 5,
   "id": "87efd78b-1e69-4356-b05a-3110036c60e7",
   "metadata": {},
   "outputs": [
    {
     "name": "stdout",
     "output_type": "stream",
     "text": [
      "Requirement already satisfied: numpy in c:\\users\\sapta\\anaconda3\\lib\\site-packages (1.26.4)Note: you may need to restart the kernel to use updated packages.\n",
      "\n",
      "Requirement already satisfied: pandas in c:\\users\\sapta\\anaconda3\\lib\\site-packages (2.2.2)\n",
      "Requirement already satisfied: matplotlib in c:\\users\\sapta\\anaconda3\\lib\\site-packages (3.9.2)\n",
      "Requirement already satisfied: seaborn in c:\\users\\sapta\\anaconda3\\lib\\site-packages (0.13.2)\n",
      "Requirement already satisfied: python-dateutil>=2.8.2 in c:\\users\\sapta\\anaconda3\\lib\\site-packages (from pandas) (2.9.0.post0)\n",
      "Requirement already satisfied: pytz>=2020.1 in c:\\users\\sapta\\anaconda3\\lib\\site-packages (from pandas) (2024.1)\n",
      "Requirement already satisfied: tzdata>=2022.7 in c:\\users\\sapta\\anaconda3\\lib\\site-packages (from pandas) (2023.3)\n",
      "Requirement already satisfied: contourpy>=1.0.1 in c:\\users\\sapta\\anaconda3\\lib\\site-packages (from matplotlib) (1.2.0)\n",
      "Requirement already satisfied: cycler>=0.10 in c:\\users\\sapta\\anaconda3\\lib\\site-packages (from matplotlib) (0.11.0)\n",
      "Requirement already satisfied: fonttools>=4.22.0 in c:\\users\\sapta\\anaconda3\\lib\\site-packages (from matplotlib) (4.51.0)\n",
      "Requirement already satisfied: kiwisolver>=1.3.1 in c:\\users\\sapta\\anaconda3\\lib\\site-packages (from matplotlib) (1.4.4)\n",
      "Requirement already satisfied: packaging>=20.0 in c:\\users\\sapta\\anaconda3\\lib\\site-packages (from matplotlib) (24.1)\n",
      "Requirement already satisfied: pillow>=8 in c:\\users\\sapta\\anaconda3\\lib\\site-packages (from matplotlib) (10.4.0)\n",
      "Requirement already satisfied: pyparsing>=2.3.1 in c:\\users\\sapta\\anaconda3\\lib\\site-packages (from matplotlib) (3.1.2)\n",
      "Requirement already satisfied: six>=1.5 in c:\\users\\sapta\\anaconda3\\lib\\site-packages (from python-dateutil>=2.8.2->pandas) (1.16.0)\n"
     ]
    }
   ],
   "source": [
    "pip install numpy pandas matplotlib seaborn"
   ]
  },
  {
   "cell_type": "code",
   "execution_count": 6,
   "id": "c0f7f4fe-1fc3-4400-9400-727a10e479b4",
   "metadata": {},
   "outputs": [],
   "source": [
    "#IMPORT LIBRARY\n",
    "import numpy as np\n",
    "import pandas as pd\n",
    "import matplotlib.pyplot as plt\n",
    "import seaborn as sns"
   ]
  },
  {
   "cell_type": "code",
   "execution_count": 7,
   "id": "9462a589-bed7-46c9-b268-b07c541cf4c6",
   "metadata": {},
   "outputs": [],
   "source": [
    "df = pd.read_csv('botak.csv')"
   ]
  },
  {
   "cell_type": "markdown",
   "id": "25867b6c-830c-435d-b9dd-7d60057d828b",
   "metadata": {},
   "source": [
    "## Melihat Struktur Data"
   ]
  },
  {
   "cell_type": "code",
   "execution_count": 8,
   "id": "2f15dff7-9171-4836-a743-82ef4167283d",
   "metadata": {},
   "outputs": [
    {
     "data": {
      "text/html": [
       "<div>\n",
       "<style scoped>\n",
       "    .dataframe tbody tr th:only-of-type {\n",
       "        vertical-align: middle;\n",
       "    }\n",
       "\n",
       "    .dataframe tbody tr th {\n",
       "        vertical-align: top;\n",
       "    }\n",
       "\n",
       "    .dataframe thead th {\n",
       "        text-align: right;\n",
       "    }\n",
       "</style>\n",
       "<table border=\"1\" class=\"dataframe\">\n",
       "  <thead>\n",
       "    <tr style=\"text-align: right;\">\n",
       "      <th></th>\n",
       "      <th>umur</th>\n",
       "      <th>jenis_kelamin</th>\n",
       "      <th>pekerjaan</th>\n",
       "      <th>provinsi</th>\n",
       "      <th>gaji</th>\n",
       "      <th>is_menikah</th>\n",
       "      <th>is_keturunan</th>\n",
       "      <th>berat</th>\n",
       "      <th>tinggi</th>\n",
       "      <th>sampo</th>\n",
       "      <th>is_merokok</th>\n",
       "      <th>pendidikan</th>\n",
       "      <th>botak_prob</th>\n",
       "    </tr>\n",
       "  </thead>\n",
       "  <tbody>\n",
       "    <tr>\n",
       "      <th>0</th>\n",
       "      <td>42.0</td>\n",
       "      <td>Laki-laki</td>\n",
       "      <td>PNS</td>\n",
       "      <td>Padang</td>\n",
       "      <td>7.864005e+06</td>\n",
       "      <td>0</td>\n",
       "      <td>0.0</td>\n",
       "      <td>61.928685</td>\n",
       "      <td>152.174164</td>\n",
       "      <td>Deadbuoy</td>\n",
       "      <td>1</td>\n",
       "      <td>S1</td>\n",
       "      <td>0.487655</td>\n",
       "    </tr>\n",
       "    <tr>\n",
       "      <th>1</th>\n",
       "      <td>33.0</td>\n",
       "      <td>Laki-laki</td>\n",
       "      <td>Pegawai swasta</td>\n",
       "      <td>Palangkaraya</td>\n",
       "      <td>6.492662e+06</td>\n",
       "      <td>0</td>\n",
       "      <td>0.0</td>\n",
       "      <td>49.374507</td>\n",
       "      <td>152.822969</td>\n",
       "      <td>Moonsilk</td>\n",
       "      <td>1</td>\n",
       "      <td>SMA</td>\n",
       "      <td>0.297270</td>\n",
       "    </tr>\n",
       "    <tr>\n",
       "      <th>2</th>\n",
       "      <td>59.0</td>\n",
       "      <td>Laki-laki</td>\n",
       "      <td>Freelance</td>\n",
       "      <td>Serang</td>\n",
       "      <td>8.086303e+06</td>\n",
       "      <td>1</td>\n",
       "      <td>0.0</td>\n",
       "      <td>59.072807</td>\n",
       "      <td>159.911047</td>\n",
       "      <td>Merpati</td>\n",
       "      <td>1</td>\n",
       "      <td>S1</td>\n",
       "      <td>0.467848</td>\n",
       "    </tr>\n",
       "    <tr>\n",
       "      <th>3</th>\n",
       "      <td>38.0</td>\n",
       "      <td>Laki-laki</td>\n",
       "      <td>Pegawai swasta</td>\n",
       "      <td>Gorontalo</td>\n",
       "      <td>1.147321e+07</td>\n",
       "      <td>0</td>\n",
       "      <td>1.0</td>\n",
       "      <td>68.338014</td>\n",
       "      <td>162.558997</td>\n",
       "      <td>Moonsilk</td>\n",
       "      <td>0</td>\n",
       "      <td>S1</td>\n",
       "      <td>0.616418</td>\n",
       "    </tr>\n",
       "    <tr>\n",
       "      <th>4</th>\n",
       "      <td>33.0</td>\n",
       "      <td>Perempuan</td>\n",
       "      <td>Freelance</td>\n",
       "      <td>Tanjungselor</td>\n",
       "      <td>1.475942e+07</td>\n",
       "      <td>0</td>\n",
       "      <td>0.0</td>\n",
       "      <td>53.769996</td>\n",
       "      <td>154.579510</td>\n",
       "      <td>Pantone</td>\n",
       "      <td>1</td>\n",
       "      <td>S2</td>\n",
       "      <td>0.115439</td>\n",
       "    </tr>\n",
       "  </tbody>\n",
       "</table>\n",
       "</div>"
      ],
      "text/plain": [
       "   umur jenis_kelamin       pekerjaan      provinsi          gaji  is_menikah  \\\n",
       "0  42.0     Laki-laki             PNS        Padang  7.864005e+06           0   \n",
       "1  33.0     Laki-laki  Pegawai swasta  Palangkaraya  6.492662e+06           0   \n",
       "2  59.0     Laki-laki       Freelance        Serang  8.086303e+06           1   \n",
       "3  38.0     Laki-laki  Pegawai swasta     Gorontalo  1.147321e+07           0   \n",
       "4  33.0     Perempuan       Freelance  Tanjungselor  1.475942e+07           0   \n",
       "\n",
       "   is_keturunan      berat      tinggi     sampo  is_merokok pendidikan  \\\n",
       "0           0.0  61.928685  152.174164  Deadbuoy           1         S1   \n",
       "1           0.0  49.374507  152.822969  Moonsilk           1        SMA   \n",
       "2           0.0  59.072807  159.911047   Merpati           1         S1   \n",
       "3           1.0  68.338014  162.558997  Moonsilk           0         S1   \n",
       "4           0.0  53.769996  154.579510   Pantone           1         S2   \n",
       "\n",
       "   botak_prob  \n",
       "0    0.487655  \n",
       "1    0.297270  \n",
       "2    0.467848  \n",
       "3    0.616418  \n",
       "4    0.115439  "
      ]
     },
     "execution_count": 8,
     "metadata": {},
     "output_type": "execute_result"
    }
   ],
   "source": [
    "df.head()"
   ]
  },
  {
   "cell_type": "code",
   "execution_count": 9,
   "id": "7bf4bb22-7d10-4678-9112-b21f6a057180",
   "metadata": {},
   "outputs": [
    {
     "data": {
      "text/html": [
       "<div>\n",
       "<style scoped>\n",
       "    .dataframe tbody tr th:only-of-type {\n",
       "        vertical-align: middle;\n",
       "    }\n",
       "\n",
       "    .dataframe tbody tr th {\n",
       "        vertical-align: top;\n",
       "    }\n",
       "\n",
       "    .dataframe thead th {\n",
       "        text-align: right;\n",
       "    }\n",
       "</style>\n",
       "<table border=\"1\" class=\"dataframe\">\n",
       "  <thead>\n",
       "    <tr style=\"text-align: right;\">\n",
       "      <th></th>\n",
       "      <th>umur</th>\n",
       "      <th>jenis_kelamin</th>\n",
       "      <th>pekerjaan</th>\n",
       "      <th>provinsi</th>\n",
       "      <th>gaji</th>\n",
       "      <th>is_menikah</th>\n",
       "      <th>is_keturunan</th>\n",
       "      <th>berat</th>\n",
       "      <th>tinggi</th>\n",
       "      <th>sampo</th>\n",
       "      <th>is_merokok</th>\n",
       "      <th>pendidikan</th>\n",
       "      <th>botak_prob</th>\n",
       "    </tr>\n",
       "  </thead>\n",
       "  <tbody>\n",
       "    <tr>\n",
       "      <th>7986</th>\n",
       "      <td>31.0</td>\n",
       "      <td>Laki-laki</td>\n",
       "      <td>Pegawai swasta</td>\n",
       "      <td>Padang</td>\n",
       "      <td>2.911963e+07</td>\n",
       "      <td>0</td>\n",
       "      <td>0.0</td>\n",
       "      <td>83.272785</td>\n",
       "      <td>176.020857</td>\n",
       "      <td>Merpati</td>\n",
       "      <td>0</td>\n",
       "      <td>SMA</td>\n",
       "      <td>0.241525</td>\n",
       "    </tr>\n",
       "    <tr>\n",
       "      <th>7987</th>\n",
       "      <td>40.0</td>\n",
       "      <td>Perempuan</td>\n",
       "      <td>Pegawai swasta</td>\n",
       "      <td>Banjarmasin</td>\n",
       "      <td>8.955173e+06</td>\n",
       "      <td>0</td>\n",
       "      <td>0.0</td>\n",
       "      <td>61.634474</td>\n",
       "      <td>161.780773</td>\n",
       "      <td>Deadbuoy</td>\n",
       "      <td>0</td>\n",
       "      <td>S1</td>\n",
       "      <td>0.140971</td>\n",
       "    </tr>\n",
       "    <tr>\n",
       "      <th>7988</th>\n",
       "      <td>43.0</td>\n",
       "      <td>Perempuan</td>\n",
       "      <td>PNS</td>\n",
       "      <td>Mataram</td>\n",
       "      <td>4.022652e+06</td>\n",
       "      <td>0</td>\n",
       "      <td>0.0</td>\n",
       "      <td>50.525031</td>\n",
       "      <td>152.461656</td>\n",
       "      <td>Shoulder &amp; Head</td>\n",
       "      <td>1</td>\n",
       "      <td>S1</td>\n",
       "      <td>0.364456</td>\n",
       "    </tr>\n",
       "    <tr>\n",
       "      <th>7989</th>\n",
       "      <td>29.0</td>\n",
       "      <td>Laki-laki</td>\n",
       "      <td>Pegawai swasta</td>\n",
       "      <td>Serang</td>\n",
       "      <td>5.801753e+06</td>\n",
       "      <td>0</td>\n",
       "      <td>0.0</td>\n",
       "      <td>47.175270</td>\n",
       "      <td>152.749709</td>\n",
       "      <td>NaN</td>\n",
       "      <td>1</td>\n",
       "      <td>SMA</td>\n",
       "      <td>0.248910</td>\n",
       "    </tr>\n",
       "    <tr>\n",
       "      <th>7990</th>\n",
       "      <td>55.0</td>\n",
       "      <td>Laki-laki</td>\n",
       "      <td>Pegawai swasta</td>\n",
       "      <td>Padang</td>\n",
       "      <td>8.518947e+06</td>\n",
       "      <td>0</td>\n",
       "      <td>1.0</td>\n",
       "      <td>61.938728</td>\n",
       "      <td>163.998842</td>\n",
       "      <td>Merpati</td>\n",
       "      <td>1</td>\n",
       "      <td>SMA</td>\n",
       "      <td>0.838493</td>\n",
       "    </tr>\n",
       "  </tbody>\n",
       "</table>\n",
       "</div>"
      ],
      "text/plain": [
       "      umur jenis_kelamin       pekerjaan     provinsi          gaji  \\\n",
       "7986  31.0     Laki-laki  Pegawai swasta       Padang  2.911963e+07   \n",
       "7987  40.0     Perempuan  Pegawai swasta  Banjarmasin  8.955173e+06   \n",
       "7988  43.0     Perempuan             PNS      Mataram  4.022652e+06   \n",
       "7989  29.0     Laki-laki  Pegawai swasta       Serang  5.801753e+06   \n",
       "7990  55.0     Laki-laki  Pegawai swasta       Padang  8.518947e+06   \n",
       "\n",
       "      is_menikah  is_keturunan      berat      tinggi            sampo  \\\n",
       "7986           0           0.0  83.272785  176.020857          Merpati   \n",
       "7987           0           0.0  61.634474  161.780773         Deadbuoy   \n",
       "7988           0           0.0  50.525031  152.461656  Shoulder & Head   \n",
       "7989           0           0.0  47.175270  152.749709              NaN   \n",
       "7990           0           1.0  61.938728  163.998842          Merpati   \n",
       "\n",
       "      is_merokok pendidikan  botak_prob  \n",
       "7986           0        SMA    0.241525  \n",
       "7987           0         S1    0.140971  \n",
       "7988           1         S1    0.364456  \n",
       "7989           1        SMA    0.248910  \n",
       "7990           1        SMA    0.838493  "
      ]
     },
     "execution_count": 9,
     "metadata": {},
     "output_type": "execute_result"
    }
   ],
   "source": [
    "df.tail()"
   ]
  },
  {
   "cell_type": "code",
   "execution_count": 10,
   "id": "aacd9682-48e3-40b7-b90a-2df7f6d9c832",
   "metadata": {},
   "outputs": [
    {
     "data": {
      "text/plain": [
       "umur              0\n",
       "jenis_kelamin     9\n",
       "pekerjaan        67\n",
       "provinsi          0\n",
       "gaji             23\n",
       "is_menikah        0\n",
       "is_keturunan     15\n",
       "berat            39\n",
       "tinggi            0\n",
       "sampo            57\n",
       "is_merokok        0\n",
       "pendidikan        0\n",
       "botak_prob        0\n",
       "dtype: int64"
      ]
     },
     "execution_count": 10,
     "metadata": {},
     "output_type": "execute_result"
    }
   ],
   "source": [
    "#Mengecek Missing Value\n",
    "df.isnull().sum()"
   ]
  },
  {
   "cell_type": "code",
   "execution_count": 11,
   "id": "afb539ff-034e-45cd-a7e8-ebf47f44f495",
   "metadata": {},
   "outputs": [],
   "source": [
    "df_cleaned = df.dropna()"
   ]
  },
  {
   "cell_type": "code",
   "execution_count": 12,
   "id": "803d133a-3bd0-46e2-a7c8-b2f0cab1599a",
   "metadata": {},
   "outputs": [],
   "source": [
    "#Mengatasi Duplicate Data\n",
    "duplicates = df_cleaned.duplicated().sum()"
   ]
  },
  {
   "cell_type": "code",
   "execution_count": 13,
   "id": "7d98df1f-5992-4366-aee0-3ae8063ef0db",
   "metadata": {},
   "outputs": [],
   "source": [
    "f_cleaned = df_cleaned.drop_duplicates()"
   ]
  },
  {
   "cell_type": "code",
   "execution_count": 14,
   "id": "738c1bc6-51ad-467e-8f15-1390b981c775",
   "metadata": {},
   "outputs": [
    {
     "data": {
      "text/html": [
       "<div>\n",
       "<style scoped>\n",
       "    .dataframe tbody tr th:only-of-type {\n",
       "        vertical-align: middle;\n",
       "    }\n",
       "\n",
       "    .dataframe tbody tr th {\n",
       "        vertical-align: top;\n",
       "    }\n",
       "\n",
       "    .dataframe thead th {\n",
       "        text-align: right;\n",
       "    }\n",
       "</style>\n",
       "<table border=\"1\" class=\"dataframe\">\n",
       "  <thead>\n",
       "    <tr style=\"text-align: right;\">\n",
       "      <th></th>\n",
       "      <th>umur</th>\n",
       "      <th>gaji</th>\n",
       "      <th>is_menikah</th>\n",
       "      <th>is_keturunan</th>\n",
       "      <th>berat</th>\n",
       "      <th>tinggi</th>\n",
       "      <th>is_merokok</th>\n",
       "      <th>botak_prob</th>\n",
       "    </tr>\n",
       "  </thead>\n",
       "  <tbody>\n",
       "    <tr>\n",
       "      <th>count</th>\n",
       "      <td>7781.000000</td>\n",
       "      <td>7.781000e+03</td>\n",
       "      <td>7781.000000</td>\n",
       "      <td>7781.000000</td>\n",
       "      <td>7781.000000</td>\n",
       "      <td>7781.000000</td>\n",
       "      <td>7781.000000</td>\n",
       "      <td>7781.000000</td>\n",
       "    </tr>\n",
       "    <tr>\n",
       "      <th>mean</th>\n",
       "      <td>39.599537</td>\n",
       "      <td>9.455041e+06</td>\n",
       "      <td>0.030330</td>\n",
       "      <td>0.192135</td>\n",
       "      <td>56.455875</td>\n",
       "      <td>157.566797</td>\n",
       "      <td>0.499550</td>\n",
       "      <td>0.395863</td>\n",
       "    </tr>\n",
       "    <tr>\n",
       "      <th>std</th>\n",
       "      <td>10.001351</td>\n",
       "      <td>4.807626e+06</td>\n",
       "      <td>0.171506</td>\n",
       "      <td>0.394004</td>\n",
       "      <td>9.596270</td>\n",
       "      <td>6.585057</td>\n",
       "      <td>0.500032</td>\n",
       "      <td>0.191257</td>\n",
       "    </tr>\n",
       "    <tr>\n",
       "      <th>min</th>\n",
       "      <td>3.000000</td>\n",
       "      <td>1.500000e+06</td>\n",
       "      <td>0.000000</td>\n",
       "      <td>0.000000</td>\n",
       "      <td>40.000000</td>\n",
       "      <td>136.197006</td>\n",
       "      <td>0.000000</td>\n",
       "      <td>-0.115700</td>\n",
       "    </tr>\n",
       "    <tr>\n",
       "      <th>25%</th>\n",
       "      <td>33.000000</td>\n",
       "      <td>6.102854e+06</td>\n",
       "      <td>0.000000</td>\n",
       "      <td>0.000000</td>\n",
       "      <td>49.927340</td>\n",
       "      <td>153.103470</td>\n",
       "      <td>0.000000</td>\n",
       "      <td>0.260973</td>\n",
       "    </tr>\n",
       "    <tr>\n",
       "      <th>50%</th>\n",
       "      <td>40.000000</td>\n",
       "      <td>8.385490e+06</td>\n",
       "      <td>0.000000</td>\n",
       "      <td>0.000000</td>\n",
       "      <td>54.241674</td>\n",
       "      <td>157.229373</td>\n",
       "      <td>0.000000</td>\n",
       "      <td>0.372550</td>\n",
       "    </tr>\n",
       "    <tr>\n",
       "      <th>75%</th>\n",
       "      <td>46.000000</td>\n",
       "      <td>1.152537e+07</td>\n",
       "      <td>0.000000</td>\n",
       "      <td>0.000000</td>\n",
       "      <td>60.755396</td>\n",
       "      <td>161.581000</td>\n",
       "      <td>1.000000</td>\n",
       "      <td>0.512155</td>\n",
       "    </tr>\n",
       "    <tr>\n",
       "      <th>max</th>\n",
       "      <td>78.000000</td>\n",
       "      <td>5.000000e+07</td>\n",
       "      <td>1.000000</td>\n",
       "      <td>1.000000</td>\n",
       "      <td>150.000000</td>\n",
       "      <td>200.225925</td>\n",
       "      <td>1.000000</td>\n",
       "      <td>1.000000</td>\n",
       "    </tr>\n",
       "  </tbody>\n",
       "</table>\n",
       "</div>"
      ],
      "text/plain": [
       "              umur          gaji   is_menikah  is_keturunan        berat  \\\n",
       "count  7781.000000  7.781000e+03  7781.000000   7781.000000  7781.000000   \n",
       "mean     39.599537  9.455041e+06     0.030330      0.192135    56.455875   \n",
       "std      10.001351  4.807626e+06     0.171506      0.394004     9.596270   \n",
       "min       3.000000  1.500000e+06     0.000000      0.000000    40.000000   \n",
       "25%      33.000000  6.102854e+06     0.000000      0.000000    49.927340   \n",
       "50%      40.000000  8.385490e+06     0.000000      0.000000    54.241674   \n",
       "75%      46.000000  1.152537e+07     0.000000      0.000000    60.755396   \n",
       "max      78.000000  5.000000e+07     1.000000      1.000000   150.000000   \n",
       "\n",
       "            tinggi   is_merokok   botak_prob  \n",
       "count  7781.000000  7781.000000  7781.000000  \n",
       "mean    157.566797     0.499550     0.395863  \n",
       "std       6.585057     0.500032     0.191257  \n",
       "min     136.197006     0.000000    -0.115700  \n",
       "25%     153.103470     0.000000     0.260973  \n",
       "50%     157.229373     0.000000     0.372550  \n",
       "75%     161.581000     1.000000     0.512155  \n",
       "max     200.225925     1.000000     1.000000  "
      ]
     },
     "execution_count": 14,
     "metadata": {},
     "output_type": "execute_result"
    }
   ],
   "source": [
    "df_cleaned.describe()"
   ]
  },
  {
   "cell_type": "markdown",
   "id": "42bd8a6a-d668-443d-943e-b9781aaa12e4",
   "metadata": {},
   "source": [
    "## Bar Chart"
   ]
  },
  {
   "cell_type": "code",
   "execution_count": 15,
   "id": "07b61cb2-a5b3-4791-9f6c-0fa875710dc6",
   "metadata": {},
   "outputs": [
    {
     "data": {
      "image/png": "[encoded data removed]",
      "text/plain": [
       "<Figure size 700x500 with 1 Axes>"
      ]
     },
     "metadata": {},
     "output_type": "display_data"
    }
   ],
   "source": [
    "# Distribusi Jenis Kelamin\n",
    "plt.figure(figsize=(7, 5))\n",
    "jenis_kelamin_counts = df[\"jenis_kelamin\"].value_counts()\n",
    "colors = [\"lightgray\", \"darkgray\"]  \n",
    "plt.bar(jenis_kelamin_counts.index, jenis_kelamin_counts.values, color=colors)\n",
    "plt.title(\"Distribusi Jenis Kelamin dalam Dataset\", size=14)\n",
    "plt.xlabel(\"Jenis Kelamin\", size=12)\n",
    "plt.ylabel(\"Jumlah\", size=12)\n",
    "plt.xticks(size=10)\n",
    "plt.yticks(size=10)\n",
    "plt.show()"
   ]
  },
  {
   "cell_type": "markdown",
   "id": "19fcfdb3-0182-4737-8383-c7777c2eff65",
   "metadata": {},
   "source": [
    "## Line Chart"
   ]
  },
  {
   "cell_type": "code",
   "execution_count": 16,
   "id": "09c4c17f-e066-409f-a615-4ac4b7106bf9",
   "metadata": {},
   "outputs": [
    {
     "data": {
      "image/png": "[encoded data removed]",
      "text/plain": [
       "<Figure size 1000x500 with 1 Axes>"
      ]
     },
     "metadata": {},
     "output_type": "display_data"
    }
   ],
   "source": [
    "# Probabilitas Kebotakan Berdasarkan Umur\n",
    "fig = plt.figure(figsize=(10, 5))\n",
    "ax = fig.add_axes([0, 0, 1, 1])\n",
    "df_sorted = df.groupby(\"umur\")[\"botak_prob\"].mean().reset_index()\n",
    "ax.plot(df_sorted[\"umur\"], df_sorted[\"botak_prob\"], marker=\"o\", color=\"lightblue\")\n",
    "plt.title(\"Probabilitas Kebotakan Berdasarkan Umur\", size=14)\n",
    "plt.xlabel(\"Umur\", size=12)\n",
    "plt.ylabel(\"Probabilitas Kebotakan\", size=12)\n",
    "plt.show()"
   ]
  },
  {
   "cell_type": "markdown",
   "id": "ebf06eb5-f3a6-4ef5-a43a-c5d6782fe03f",
   "metadata": {},
   "source": [
    "## Histogram"
   ]
  },
  {
   "cell_type": "code",
   "execution_count": 17,
   "id": "07dbbcfe-1b2d-4b50-986c-9fd059e21eb8",
   "metadata": {},
   "outputs": [
    {
     "data": {
      "image/png": "[encoded data removed]",
      "text/plain": [
       "<Figure size 1000x500 with 1 Axes>"
      ]
     },
     "metadata": {},
     "output_type": "display_data"
    }
   ],
   "source": [
    "# Distribusi Tinggi Badan\n",
    "plt.figure(figsize=(10, 5))\n",
    "plt.hist(df[\"tinggi\"], bins=20, color=\"lightseagreen\", edgecolor=\"black\", alpha=0.7)\n",
    "plt.title(\"Distribusi Tinggi Badan\", size=14)\n",
    "plt.xlabel(\"Tinggi (cm)\", size=12)\n",
    "plt.ylabel(\"Frekuensi\", size=12)\n",
    "plt.xticks(size=12)\n",
    "plt.yticks(size=12)\n",
    "plt.show()"
   ]
  },
  {
   "cell_type": "code",
   "execution_count": null,
   "id": "bc8bce34-4df1-4f6c-a3e3-31c2a150872a",
   "metadata": {},
   "outputs": [],
   "source": []
  }
 ],
 "metadata": {
  "kernelspec": {
   "display_name": "Python 3 (ipykernel)",
   "language": "python",
   "name": "python3"
  },
  "language_info": {
   "codemirror_mode": {
    "name": "ipython",
    "version": 3
   },
   "file_extension": ".py",
   "mimetype": "text/x-python",
   "name": "python",
   "nbconvert_exporter": "python",
   "pygments_lexer": "ipython3",
   "version": "3.12.7"
  }
 },
 "nbformat": 4,
 "nbformat_minor": 5
}
